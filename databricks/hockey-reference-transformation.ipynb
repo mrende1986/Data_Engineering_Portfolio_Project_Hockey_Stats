{
 "cells": [
  {
   "cell_type": "code",
   "execution_count": null,
   "metadata": {
    "application/vnd.databricks.v1+cell": {
     "cellMetadata": {
      "byteLimit": 2048000,
      "rowLimit": 10000
     },
     "inputWidgets": {},
     "nuid": "8d47448f-9cfb-41aa-8614-53fddea62f08",
     "showTitle": false,
     "title": ""
    }
   },
   "outputs": [],
   "source": [
    "from pyspark.sql.functions import col\n",
    "from pyspark.sql.types import IntegerType, DoubleType, BooleanType, DateType\n",
    "import pandas as pd"
   ]
  },
  {
   "cell_type": "code",
   "execution_count": null,
   "metadata": {
    "application/vnd.databricks.v1+cell": {
     "cellMetadata": {
      "byteLimit": 2048000,
      "rowLimit": 10000
     },
     "inputWidgets": {},
     "nuid": "ab4ffee3-4127-4873-8d08-4a14685566fa",
     "showTitle": false,
     "title": ""
    }
   },
   "outputs": [],
   "source": [
    "configs = {\"fs.azure.account.auth.type\": \"OAuth\",\n",
    "\"fs.azure.account.oauth.provider.type\": \"org.apache.hadoop.fs.azurebfs.oauth2.ClientCredsTokenProvider\",\n",
    "\"fs.azure.account.oauth2.client.id\": 'CLIENT_ID',\n",
    "\"fs.azure.account.oauth2.client.secret\": \"SECRET_ID\",\n",
    "\"fs.azure.account.oauth2.client.endpoint\": \"https://login.microsoftonline.com/DIRECTORY_ID/oauth2/token\"}\n",
    "\n",
    "dbutils.fs.mount(\n",
    "source = \"abfss://CONTAINER@STORAGEACCOUNT.dfs.core.windows.net\", #container@storageaccount\n",
    "mount_point = \"/mnt/RESOURCENAME\",\n",
    "extra_configs = configs)"
   ]
  },
  {
   "cell_type": "code",
   "execution_count": null,
   "metadata": {
    "application/vnd.databricks.v1+cell": {
     "cellMetadata": {
      "byteLimit": 2048000,
      "rowLimit": 10000
     },
     "inputWidgets": {},
     "nuid": "3465e86d-dad7-477e-b641-b9e04720c6a4",
     "showTitle": false,
     "title": ""
    }
   },
   "outputs": [],
   "source": [
    "%fs\n",
    "ls \"/mnt/RESOURCENAME\""
   ]
  },
  {
   "cell_type": "code",
   "execution_count": null,
   "metadata": {
    "application/vnd.databricks.v1+cell": {
     "cellMetadata": {
      "byteLimit": 2048000,
      "rowLimit": 10000
     },
     "inputWidgets": {},
     "nuid": "1b3beafa-d433-46ba-84cf-9d0f335e9dda",
     "showTitle": false,
     "title": ""
    }
   },
   "outputs": [],
   "source": [
    "njd2023 = spark.read.format(\"csv\").option(\"header\",\"true\").option(\"inferSchema\",\"true\").load(\"/mnt/RESOURCENAME/raw-data/njd2023.csv\").toPandas()"
   ]
  },
  {
   "cell_type": "code",
   "execution_count": null,
   "metadata": {
    "application/vnd.databricks.v1+cell": {
     "cellMetadata": {
      "byteLimit": 2048000,
      "rowLimit": 10000
     },
     "inputWidgets": {},
     "nuid": "3214dd71-962a-4c43-8935-e1c738a1495e",
     "showTitle": false,
     "title": ""
    }
   },
   "outputs": [],
   "source": [
    "njd2023.head()"
   ]
  },
  {
   "cell_type": "code",
   "execution_count": null,
   "metadata": {
    "application/vnd.databricks.v1+cell": {
     "cellMetadata": {
      "byteLimit": 2048000,
      "rowLimit": 10000
     },
     "inputWidgets": {},
     "nuid": "c1d23018-1c3f-47ea-a7a7-69a134083e86",
     "showTitle": false,
     "title": ""
    }
   },
   "outputs": [],
   "source": [
    "team_abv = 'NJD'\n",
    "season = '2023'\n",
    "reg_or_playoffs = 'R'"
   ]
  },
  {
   "cell_type": "code",
   "execution_count": null,
   "metadata": {
    "application/vnd.databricks.v1+cell": {
     "cellMetadata": {
      "byteLimit": 2048000,
      "rowLimit": 10000
     },
     "inputWidgets": {},
     "nuid": "05e36438-5f4b-4fec-aecb-809772e293ef",
     "showTitle": false,
     "title": ""
    }
   },
   "outputs": [],
   "source": [
    "njd2023 = njd2023.loc[:, :\"Opponent19\"]\n",
    "njd2023.drop(columns=[\"_c8\",\"_c14\"],inplace=True)\n",
    "njd2023.head(2)"
   ]
  },
  {
   "cell_type": "code",
   "execution_count": null,
   "metadata": {
    "application/vnd.databricks.v1+cell": {
     "cellMetadata": {
      "byteLimit": 2048000,
      "rowLimit": 10000
     },
     "inputWidgets": {},
     "nuid": "8fd3ab26-05e0-424a-ba30-cd434c9636ee",
     "showTitle": false,
     "title": ""
    }
   },
   "outputs": [],
   "source": [
    "njd2023.rename(columns={'_c0':'GP', '_c1':\"Date\", '_c2':\"Home\", '_c3':\"Opp_Name\", '_c4':\"GF\",\n",
    "       '_c5':\"GA\", '_c6':\"Result\", '_c7':\"OT\", 'Team9':\"Team_S\", 'Team10':\"Team_PIM\", 'Team11':\"Team_PPG\",\n",
    "       'Team12':\"Team_PPO\", 'Team13':\"Team_SHG\", 'Opponent15':\"Opp_S\", 'Opponent16':\"Opp_PIM\", 'Opponent17':\"Opp_PPG\",\n",
    "       'Opponent18':\"Opp_PPO\", 'Opponent19':\"Opp_SHG\"},inplace=True)\n",
    "\n",
    "njd2023.drop(0,inplace=True)"
   ]
  },
  {
   "cell_type": "code",
   "execution_count": null,
   "metadata": {
    "application/vnd.databricks.v1+cell": {
     "cellMetadata": {
      "byteLimit": 2048000,
      "rowLimit": 10000
     },
     "inputWidgets": {},
     "nuid": "5521f05d-7839-43e9-908c-30b59378fd51",
     "showTitle": false,
     "title": ""
    }
   },
   "outputs": [],
   "source": [
    "njd2023.Home = [0 if x == \"@\" else 1 for x in njd2023.Home]\n",
    "njd2023.OT = [1 if x == \"OT\" else 0 for x in njd2023.OT]\n",
    "\n",
    "njd2023['Team_Abv'] = team_abv\n",
    "njd2023['Season'] = reg_or_playoffs\n",
    "njd2023['Season_Year'] = season\n",
    "njd2023['Team_ID'] = 18"
   ]
  },
  {
   "cell_type": "code",
   "execution_count": null,
   "metadata": {
    "application/vnd.databricks.v1+cell": {
     "cellMetadata": {
      "byteLimit": 2048000,
      "rowLimit": 10000
     },
     "inputWidgets": {},
     "nuid": "ad89bb58-e172-4092-b35a-8b31064809ac",
     "showTitle": false,
     "title": ""
    }
   },
   "outputs": [],
   "source": [
    "# Create Primary Key\n",
    "njd2023[\"Key\"] = njd2023[\"Team_ID\"].astype(str) + \"-\" + season + \"-\" + reg_or_playoffs + njd2023[\"GP\"].astype(str)"
   ]
  },
  {
   "cell_type": "code",
   "execution_count": null,
   "metadata": {
    "application/vnd.databricks.v1+cell": {
     "cellMetadata": {
      "byteLimit": 2048000,
      "rowLimit": 10000
     },
     "inputWidgets": {},
     "nuid": "73652552-7a85-4523-9695-096d3dbfb891",
     "showTitle": false,
     "title": ""
    }
   },
   "outputs": [],
   "source": [
    "# Cleanup date\n",
    "njd2023['Date'] = njd2023.Date.astype(str)\n",
    "njd2023['Date'] = njd2023.Date.str.replace('-','')"
   ]
  },
  {
   "cell_type": "code",
   "execution_count": null,
   "metadata": {
    "application/vnd.databricks.v1+cell": {
     "cellMetadata": {
      "byteLimit": 2048000,
      "rowLimit": 10000
     },
     "inputWidgets": {},
     "nuid": "cdec37f2-6386-4726-892a-c0f918bbbb1c",
     "showTitle": false,
     "title": ""
    }
   },
   "outputs": [],
   "source": [
    "# Reorder columns\n",
    "njd2023 = njd2023[['Key','Team_ID','Season_Year','GP','Season','Date','Home','Opp_Name','GF','GA','Result','OT','Team_S',\n",
    "                   'Team_PIM', 'Team_PPG', 'Team_PPO', 'Team_SHG', 'Opp_S', 'Opp_PIM', 'Opp_PPG', 'Opp_PPO', 'Opp_SHG']]"
   ]
  },
  {
   "cell_type": "code",
   "execution_count": null,
   "metadata": {
    "application/vnd.databricks.v1+cell": {
     "cellMetadata": {
      "byteLimit": 2048000,
      "rowLimit": 10000
     },
     "inputWidgets": {},
     "nuid": "b65ddbfb-f13c-4825-b0c0-1563f6e1dec8",
     "showTitle": false,
     "title": ""
    }
   },
   "outputs": [],
   "source": [
    "njd2023.head()"
   ]
  },
  {
   "cell_type": "code",
   "execution_count": null,
   "metadata": {
    "application/vnd.databricks.v1+cell": {
     "cellMetadata": {
      "byteLimit": 2048000,
      "rowLimit": 10000
     },
     "inputWidgets": {},
     "nuid": "2cbf55f8-3cc7-41bb-9096-53ae479de4e2",
     "showTitle": false,
     "title": ""
    }
   },
   "outputs": [],
   "source": [
    "njd2023.to_csv(\"/dbfs/mnt/RESOURCENAME/transformed-data/njd2023\", header=True, index=False)"
   ]
  }
 ],
 "metadata": {
  "application/vnd.databricks.v1+notebook": {
   "dashboards": [],
   "language": "python",
   "notebookMetadata": {
    "mostRecentlyExecutedCommandWithImplicitDF": {
     "commandId": 2850964325654248,
     "dataframes": [
      "_sqldf"
     ]
    },
    "pythonIndentUnit": 4
   },
   "notebookName": "hockey-reference transformation",
   "widgets": {}
  },
  "language_info": {
   "name": "python"
  }
 },
 "nbformat": 4,
 "nbformat_minor": 0
}
