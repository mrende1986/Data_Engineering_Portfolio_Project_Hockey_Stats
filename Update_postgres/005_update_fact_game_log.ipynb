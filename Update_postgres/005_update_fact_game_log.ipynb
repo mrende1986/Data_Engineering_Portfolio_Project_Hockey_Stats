{
 "cells": [
  {
   "cell_type": "code",
   "execution_count": null,
   "metadata": {},
   "outputs": [],
   "source": [
    "import psycopg2\n",
    "import pandas as pd\n",
    "pd.options.display.max_columns = 40"
   ]
  },
  {
   "cell_type": "markdown",
   "metadata": {},
   "source": [
    "### Import raw dataset\n",
    "\n",
    "#### Challenge - Build code to collect data directly from hockey-reference.com"
   ]
  },
  {
   "cell_type": "code",
   "execution_count": null,
   "metadata": {},
   "outputs": [],
   "source": [
    "## load DF for dates\n",
    "df = pd.read_csv(\"/Users/mattrende/Documents/Coding/hockey-reference/YouTube Project/csv/in/njd_2023.csv\")\n",
    "abv_team_names = pd.read_csv(\"/Users/mattrende/Documents/Coding/hockey-reference/YouTube Project/csv/in/team_abv.csv\")\n",
    "\n",
    "team_abv = 'NJD'\n",
    "season = '2023'\n",
    "reg_or_playoffs = 'R'"
   ]
  },
  {
   "cell_type": "code",
   "execution_count": null,
   "metadata": {},
   "outputs": [],
   "source": [
    "df = df.loc[:, :\"Opponent.4\"]\n",
    "df.drop(columns=[\"Unnamed: 8\",\"Unnamed: 14\"],inplace=True)\n",
    "df.rename(columns={'Unnamed: 0':'GP', 'Unnamed: 1':\"Date\", 'Unnamed: 2':\"Home\", 'Unnamed: 3':\"Opp_Name\", 'Unnamed: 4':\"GF\",\n",
    "       'Unnamed: 5':\"GA\", 'Unnamed: 6':\"Result\", 'Unnamed: 7':\"OT\", 'Team':\"Team_S\", 'Team.1':\"Team_PIM\", 'Team.2':\"Team_PPG\",\n",
    "       'Team.3':\"Team_PPO\", 'Team.4':\"Team_SHG\", 'Opponent':\"Opp_S\", 'Opponent.1':\"Opp_PIM\", 'Opponent.2':\"Opp_PPG\",\n",
    "       'Opponent.3':\"Opp_PPO\", 'Opponent.4':\"Opp_SHG\"},inplace=True)\n",
    "df.drop(0,inplace=True)\n",
    "df.Home = [0 if x == \"@\" else 1 for x in df.Home]\n",
    "df.OT = [1 if x == \"OT\" else 0 for x in df.OT]\n",
    "df['Team_Abv'] = team_abv\n",
    "df['Season'] = reg_or_playoffs\n",
    "df['Season_Year'] = season\n",
    "df = df.merge(abv_team_names, left_on=['Team_Abv'],right_on=[\"ABV\"], how='left')"
   ]
  },
  {
   "cell_type": "code",
   "execution_count": null,
   "metadata": {},
   "outputs": [],
   "source": [
    "df.rename(columns={'ID':\"team_id\"},inplace=True)\n",
    "df.drop(columns='ABV',inplace=True)\n",
    "df[\"Key\"] = df[\"team_id\"].astype(str) + \"-\" + season + \"-\" + reg_or_playoffs + df[\"GP\"].astype(str)\n",
    "df['Date'] = df.Date.astype(str)\n",
    "df['Date'] = df.Date.str.replace('-','')\n",
    "df['Date'] = df.Date.astype(int)\n",
    "df = df[['Key','team_id','Season_Year','GP','Season','Date','Home','Opp_Name','GF','GA','Result','OT','Team_S','Team_PIM', \n",
    "    'Team_PPG', 'Team_PPO', 'Team_SHG', 'Opp_S', 'Opp_PIM', 'Opp_PPG', 'Opp_PPO', 'Opp_SHG']]\n",
    "df.head()"
   ]
  },
  {
   "cell_type": "markdown",
   "metadata": {},
   "source": [
    "#### Connect to database"
   ]
  },
  {
   "cell_type": "code",
   "execution_count": null,
   "metadata": {},
   "outputs": [],
   "source": [
    "try:\n",
    "    conn = psycopg2.connect(\"host=127.0.0.1 dbname=hockey_yt_project user=postgres password=password\")\n",
    "except psycopg2.Error as e:\n",
    "    print(\"Error: Could not connect to database\")\n",
    "    print(e)\n",
    "\n",
    "try:\n",
    "    cur = conn.cursor()\n",
    "except psycopg2.Error as e:\n",
    "    print(\"Error: Could not get cursor to the database\")\n",
    "    print(e)\n",
    "\n",
    "conn.set_session(autocommit=True)"
   ]
  },
  {
   "cell_type": "markdown",
   "metadata": {},
   "source": [
    "#### Find last game in database"
   ]
  },
  {
   "cell_type": "code",
   "execution_count": null,
   "metadata": {},
   "outputs": [],
   "source": [
    "try: \n",
    "    cur.execute(\"SELECT max(date) FROM fact_gamelog where team_id = 18;\")\n",
    "\n",
    "except psycopg2.Error as e:\n",
    "    print(\"Select Error\")\n",
    "    print(e)\n",
    "\n",
    "row = cur.fetchone()\n",
    "while row:\n",
    "    last_game_in_db = row\n",
    "    row = cur.fetchone()"
   ]
  },
  {
   "cell_type": "code",
   "execution_count": null,
   "metadata": {},
   "outputs": [],
   "source": [
    "last_game_in_db[0]"
   ]
  },
  {
   "cell_type": "markdown",
   "metadata": {},
   "source": [
    "#### Delete last row - as an example"
   ]
  },
  {
   "cell_type": "code",
   "execution_count": null,
   "metadata": {},
   "outputs": [],
   "source": [
    "try: \n",
    "    cur.execute(f\"DELETE FROM fact_gamelog WHERE date = {last_game_in_db[0]};\")\n",
    "except psycopg2.Error as e:\n",
    "    print(\"Delete Error\")\n",
    "    print(e)"
   ]
  },
  {
   "cell_type": "markdown",
   "metadata": {},
   "source": [
    "#### Query new last game"
   ]
  },
  {
   "cell_type": "code",
   "execution_count": null,
   "metadata": {},
   "outputs": [],
   "source": [
    "try: \n",
    "    cur.execute(\"SELECT max(date) FROM fact_gamelog where team_id = 18;\")\n",
    "\n",
    "except psycopg2.Error as e:\n",
    "    print(\"Select Error\")\n",
    "    print(e)\n",
    "\n",
    "row = cur.fetchone()\n",
    "while row:\n",
    "    last_game_in_db = row\n",
    "    row = cur.fetchone()\n",
    "\n",
    "print(last_game_in_db[0])"
   ]
  },
  {
   "cell_type": "markdown",
   "metadata": {},
   "source": [
    "#### Filter for rows after last game in db"
   ]
  },
  {
   "cell_type": "code",
   "execution_count": null,
   "metadata": {},
   "outputs": [],
   "source": [
    "missing_games = df[df.Date > last_game_in_db[0]]\n",
    "missing_games"
   ]
  },
  {
   "cell_type": "code",
   "execution_count": null,
   "metadata": {},
   "outputs": [],
   "source": [
    "gamelog_insert = (\"\"\"INSERT INTO fact_gamelog(\n",
    "                  key,\n",
    "                  team_id,\n",
    "                  season_year,\n",
    "                  gp,\n",
    "                  season,\n",
    "                  date,\n",
    "                  home,\n",
    "                  opp_name,\n",
    "                  gf,\n",
    "                  ga,\n",
    "                  result,\n",
    "                  ot,\n",
    "                  team_s,\n",
    "                  team_pim,\n",
    "                  team_ppg,\n",
    "                  team_ppo,\n",
    "                  team_shg,\n",
    "                  opp_s,\n",
    "                  opp_pim,\n",
    "                  opp_ppg,\n",
    "                  opp_ppo,\n",
    "                  opp_shg)\n",
    "               VALUES (%s, %s, %s, %s, %s, %s, %s, %s, %s, %s, %s, %s, %s, %s, %s, %s, %s, %s, %s, %s, %s, %s)\n",
    "               \"\"\")"
   ]
  },
  {
   "cell_type": "markdown",
   "metadata": {},
   "source": [
    "#### Insert into DB"
   ]
  },
  {
   "cell_type": "code",
   "execution_count": null,
   "metadata": {},
   "outputs": [],
   "source": [
    "try:\n",
    "    for i, row in missing_games.iterrows():\n",
    "        #print(list(row))\n",
    "        cur.execute(gamelog_insert, list(row))\n",
    "\n",
    "except psycopg2.Error as e:\n",
    "    print(\"Error: could not insert rows\")\n",
    "    print(e)"
   ]
  }
 ],
 "metadata": {
  "kernelspec": {
   "display_name": "Python 3",
   "language": "python",
   "name": "python3"
  },
  "language_info": {
   "codemirror_mode": {
    "name": "ipython",
    "version": 3
   },
   "file_extension": ".py",
   "mimetype": "text/x-python",
   "name": "python",
   "nbconvert_exporter": "python",
   "pygments_lexer": "ipython3",
   "version": "3.10.4"
  },
  "orig_nbformat": 4
 },
 "nbformat": 4,
 "nbformat_minor": 2
}
