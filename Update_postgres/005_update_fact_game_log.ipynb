{
 "cells": [
  {
   "cell_type": "code",
   "execution_count": 1,
   "metadata": {},
   "outputs": [],
   "source": [
    "import psycopg2\n",
    "import pandas as pd\n",
    "pd.options.display.max_columns = 40"
   ]
  },
  {
   "cell_type": "markdown",
   "metadata": {},
   "source": [
    "### Import raw dataset\n",
    "\n",
    "#### Challenge - Build code to collect data directly from hockey-reference.com"
   ]
  },
  {
   "cell_type": "code",
   "execution_count": 2,
   "metadata": {},
   "outputs": [],
   "source": [
    "## load DF for dates\n",
    "df = pd.read_csv(\"/Users/mattrende/Documents/Coding/hockey-reference/YouTube Project/csv/in/njd_2023.csv\")\n",
    "abv_team_names = pd.read_csv(\"/Users/mattrende/Documents/Coding/hockey-reference/YouTube Project/csv/in/team_abv.csv\")\n",
    "\n",
    "team_abv = 'NJD'\n",
    "season = '2023'\n",
    "reg_or_playoffs = 'R'"
   ]
  },
  {
   "cell_type": "code",
   "execution_count": 3,
   "metadata": {},
   "outputs": [],
   "source": [
    "df = df.loc[:, :\"Opponent.4\"]\n",
    "df.drop(columns=[\"Unnamed: 8\",\"Unnamed: 14\"],inplace=True)\n",
    "df.rename(columns={'Unnamed: 0':'GP', 'Unnamed: 1':\"Date\", 'Unnamed: 2':\"Home\", 'Unnamed: 3':\"Opp_Name\", 'Unnamed: 4':\"GF\",\n",
    "       'Unnamed: 5':\"GA\", 'Unnamed: 6':\"Result\", 'Unnamed: 7':\"OT\", 'Team':\"Team_S\", 'Team.1':\"Team_PIM\", 'Team.2':\"Team_PPG\",\n",
    "       'Team.3':\"Team_PPO\", 'Team.4':\"Team_SHG\", 'Opponent':\"Opp_S\", 'Opponent.1':\"Opp_PIM\", 'Opponent.2':\"Opp_PPG\",\n",
    "       'Opponent.3':\"Opp_PPO\", 'Opponent.4':\"Opp_SHG\"},inplace=True)\n",
    "df.drop(0,inplace=True)\n",
    "df.Home = [0 if x == \"@\" else 1 for x in df.Home]\n",
    "df.OT = [1 if x == \"OT\" else 0 for x in df.OT]\n",
    "df['Team_Abv'] = team_abv\n",
    "df['Season'] = reg_or_playoffs\n",
    "df['Season_Year'] = season\n",
    "df = df.merge(abv_team_names, left_on=['Team_Abv'],right_on=[\"ABV\"], how='left')"
   ]
  },
  {
   "cell_type": "code",
   "execution_count": 4,
   "metadata": {},
   "outputs": [
    {
     "data": {
      "text/html": [
       "<div>\n",
       "<style scoped>\n",
       "    .dataframe tbody tr th:only-of-type {\n",
       "        vertical-align: middle;\n",
       "    }\n",
       "\n",
       "    .dataframe tbody tr th {\n",
       "        vertical-align: top;\n",
       "    }\n",
       "\n",
       "    .dataframe thead th {\n",
       "        text-align: right;\n",
       "    }\n",
       "</style>\n",
       "<table border=\"1\" class=\"dataframe\">\n",
       "  <thead>\n",
       "    <tr style=\"text-align: right;\">\n",
       "      <th></th>\n",
       "      <th>Key</th>\n",
       "      <th>team_id</th>\n",
       "      <th>Season_Year</th>\n",
       "      <th>GP</th>\n",
       "      <th>Season</th>\n",
       "      <th>Date</th>\n",
       "      <th>Home</th>\n",
       "      <th>Opp_Name</th>\n",
       "      <th>GF</th>\n",
       "      <th>GA</th>\n",
       "      <th>Result</th>\n",
       "      <th>OT</th>\n",
       "      <th>Team_S</th>\n",
       "      <th>Team_PIM</th>\n",
       "      <th>Team_PPG</th>\n",
       "      <th>Team_PPO</th>\n",
       "      <th>Team_SHG</th>\n",
       "      <th>Opp_S</th>\n",
       "      <th>Opp_PIM</th>\n",
       "      <th>Opp_PPG</th>\n",
       "      <th>Opp_PPO</th>\n",
       "      <th>Opp_SHG</th>\n",
       "    </tr>\n",
       "  </thead>\n",
       "  <tbody>\n",
       "    <tr>\n",
       "      <th>0</th>\n",
       "      <td>18-2023-R1</td>\n",
       "      <td>18</td>\n",
       "      <td>2023</td>\n",
       "      <td>1</td>\n",
       "      <td>R</td>\n",
       "      <td>20221013</td>\n",
       "      <td>0</td>\n",
       "      <td>Philadelphia Flyers</td>\n",
       "      <td>2</td>\n",
       "      <td>5</td>\n",
       "      <td>L</td>\n",
       "      <td>0</td>\n",
       "      <td>37</td>\n",
       "      <td>8</td>\n",
       "      <td>1</td>\n",
       "      <td>3</td>\n",
       "      <td>0</td>\n",
       "      <td>25</td>\n",
       "      <td>8</td>\n",
       "      <td>1</td>\n",
       "      <td>3</td>\n",
       "      <td>0</td>\n",
       "    </tr>\n",
       "    <tr>\n",
       "      <th>1</th>\n",
       "      <td>18-2023-R2</td>\n",
       "      <td>18</td>\n",
       "      <td>2023</td>\n",
       "      <td>2</td>\n",
       "      <td>R</td>\n",
       "      <td>20221015</td>\n",
       "      <td>1</td>\n",
       "      <td>Detroit Red Wings</td>\n",
       "      <td>2</td>\n",
       "      <td>5</td>\n",
       "      <td>L</td>\n",
       "      <td>0</td>\n",
       "      <td>39</td>\n",
       "      <td>12</td>\n",
       "      <td>0</td>\n",
       "      <td>3</td>\n",
       "      <td>0</td>\n",
       "      <td>22</td>\n",
       "      <td>10</td>\n",
       "      <td>0</td>\n",
       "      <td>4</td>\n",
       "      <td>0</td>\n",
       "    </tr>\n",
       "    <tr>\n",
       "      <th>2</th>\n",
       "      <td>18-2023-R3</td>\n",
       "      <td>18</td>\n",
       "      <td>2023</td>\n",
       "      <td>3</td>\n",
       "      <td>R</td>\n",
       "      <td>20221018</td>\n",
       "      <td>1</td>\n",
       "      <td>Anaheim Ducks</td>\n",
       "      <td>4</td>\n",
       "      <td>2</td>\n",
       "      <td>W</td>\n",
       "      <td>0</td>\n",
       "      <td>41</td>\n",
       "      <td>15</td>\n",
       "      <td>0</td>\n",
       "      <td>3</td>\n",
       "      <td>0</td>\n",
       "      <td>20</td>\n",
       "      <td>23</td>\n",
       "      <td>0</td>\n",
       "      <td>4</td>\n",
       "      <td>0</td>\n",
       "    </tr>\n",
       "    <tr>\n",
       "      <th>3</th>\n",
       "      <td>18-2023-R4</td>\n",
       "      <td>18</td>\n",
       "      <td>2023</td>\n",
       "      <td>4</td>\n",
       "      <td>R</td>\n",
       "      <td>20221020</td>\n",
       "      <td>0</td>\n",
       "      <td>New York Islanders</td>\n",
       "      <td>4</td>\n",
       "      <td>1</td>\n",
       "      <td>W</td>\n",
       "      <td>0</td>\n",
       "      <td>43</td>\n",
       "      <td>6</td>\n",
       "      <td>0</td>\n",
       "      <td>3</td>\n",
       "      <td>0</td>\n",
       "      <td>17</td>\n",
       "      <td>8</td>\n",
       "      <td>0</td>\n",
       "      <td>2</td>\n",
       "      <td>0</td>\n",
       "    </tr>\n",
       "    <tr>\n",
       "      <th>4</th>\n",
       "      <td>18-2023-R5</td>\n",
       "      <td>18</td>\n",
       "      <td>2023</td>\n",
       "      <td>5</td>\n",
       "      <td>R</td>\n",
       "      <td>20221022</td>\n",
       "      <td>1</td>\n",
       "      <td>San Jose Sharks</td>\n",
       "      <td>2</td>\n",
       "      <td>1</td>\n",
       "      <td>W</td>\n",
       "      <td>0</td>\n",
       "      <td>36</td>\n",
       "      <td>4</td>\n",
       "      <td>1</td>\n",
       "      <td>3</td>\n",
       "      <td>0</td>\n",
       "      <td>22</td>\n",
       "      <td>6</td>\n",
       "      <td>0</td>\n",
       "      <td>2</td>\n",
       "      <td>0</td>\n",
       "    </tr>\n",
       "  </tbody>\n",
       "</table>\n",
       "</div>"
      ],
      "text/plain": [
       "          Key  team_id Season_Year GP Season      Date  Home  \\\n",
       "0  18-2023-R1       18        2023  1      R  20221013     0   \n",
       "1  18-2023-R2       18        2023  2      R  20221015     1   \n",
       "2  18-2023-R3       18        2023  3      R  20221018     1   \n",
       "3  18-2023-R4       18        2023  4      R  20221020     0   \n",
       "4  18-2023-R5       18        2023  5      R  20221022     1   \n",
       "\n",
       "              Opp_Name GF GA Result  OT Team_S Team_PIM Team_PPG Team_PPO  \\\n",
       "0  Philadelphia Flyers  2  5      L   0     37        8        1        3   \n",
       "1    Detroit Red Wings  2  5      L   0     39       12        0        3   \n",
       "2        Anaheim Ducks  4  2      W   0     41       15        0        3   \n",
       "3   New York Islanders  4  1      W   0     43        6        0        3   \n",
       "4      San Jose Sharks  2  1      W   0     36        4        1        3   \n",
       "\n",
       "  Team_SHG Opp_S Opp_PIM Opp_PPG Opp_PPO Opp_SHG  \n",
       "0        0    25       8       1       3       0  \n",
       "1        0    22      10       0       4       0  \n",
       "2        0    20      23       0       4       0  \n",
       "3        0    17       8       0       2       0  \n",
       "4        0    22       6       0       2       0  "
      ]
     },
     "execution_count": 4,
     "metadata": {},
     "output_type": "execute_result"
    }
   ],
   "source": [
    "df.rename(columns={'ID':\"team_id\"},inplace=True)\n",
    "df.drop(columns='ABV',inplace=True)\n",
    "df[\"Key\"] = df[\"team_id\"].astype(str) + \"-\" + season + \"-\" + reg_or_playoffs + df[\"GP\"].astype(str)\n",
    "df['Date'] = df.Date.astype(str)\n",
    "df['Date'] = df.Date.str.replace('-','')\n",
    "df['Date'] = df.Date.astype(int)\n",
    "df = df[['Key','team_id','Season_Year','GP','Season','Date','Home','Opp_Name','GF','GA','Result','OT','Team_S','Team_PIM', \n",
    "    'Team_PPG', 'Team_PPO', 'Team_SHG', 'Opp_S', 'Opp_PIM', 'Opp_PPG', 'Opp_PPO', 'Opp_SHG']]\n",
    "df.head()"
   ]
  },
  {
   "cell_type": "markdown",
   "metadata": {},
   "source": [
    "#### Connect to database"
   ]
  },
  {
   "cell_type": "code",
   "execution_count": 5,
   "metadata": {},
   "outputs": [],
   "source": [
    "try:\n",
    "    conn = psycopg2.connect(\"host=127.0.0.1 dbname=hockey_yt_project user=postgres password=password\")\n",
    "except psycopg2.Error as e:\n",
    "    print(\"Error: Could not connect to database\")\n",
    "    print(e)\n",
    "\n",
    "try:\n",
    "    cur = conn.cursor()\n",
    "except psycopg2.Error as e:\n",
    "    print(\"Error: Could not get cursor to the database\")\n",
    "    print(e)\n",
    "\n",
    "conn.set_session(autocommit=True)"
   ]
  },
  {
   "cell_type": "markdown",
   "metadata": {},
   "source": [
    "#### Find last game in database"
   ]
  },
  {
   "cell_type": "code",
   "execution_count": 6,
   "metadata": {},
   "outputs": [],
   "source": [
    "try: \n",
    "    cur.execute(\"SELECT max(date) FROM fact_gamelog where team_id = 18;\")\n",
    "\n",
    "except psycopg2.Error as e:\n",
    "    print(\"Select Error\")\n",
    "    print(e)\n",
    "\n",
    "row = cur.fetchone()\n",
    "while row:\n",
    "    last_game_in_db = row[0]\n",
    "    row = cur.fetchone()"
   ]
  },
  {
   "cell_type": "code",
   "execution_count": 7,
   "metadata": {},
   "outputs": [
    {
     "data": {
      "text/plain": [
       "20230413"
      ]
     },
     "execution_count": 7,
     "metadata": {},
     "output_type": "execute_result"
    }
   ],
   "source": [
    "last_game_in_db"
   ]
  },
  {
   "cell_type": "markdown",
   "metadata": {},
   "source": [
    "#### Delete last row - as an example"
   ]
  },
  {
   "cell_type": "code",
   "execution_count": 8,
   "metadata": {},
   "outputs": [],
   "source": [
    "try: \n",
    "    cur.execute(f\"DELETE FROM fact_gamelog WHERE date = {last_game_in_db};\")\n",
    "except psycopg2.Error as e:\n",
    "    print(\"Delete Error\")\n",
    "    print(e)"
   ]
  },
  {
   "cell_type": "markdown",
   "metadata": {},
   "source": [
    "#### Query new last game"
   ]
  },
  {
   "cell_type": "code",
   "execution_count": 9,
   "metadata": {},
   "outputs": [
    {
     "name": "stdout",
     "output_type": "stream",
     "text": [
      "20230411\n"
     ]
    }
   ],
   "source": [
    "try: \n",
    "    cur.execute(\"SELECT max(date) FROM fact_gamelog where team_id = 18;\")\n",
    "\n",
    "except psycopg2.Error as e:\n",
    "    print(\"Select Error\")\n",
    "    print(e)\n",
    "\n",
    "row = cur.fetchone()\n",
    "while row:\n",
    "    last_game_in_db = row\n",
    "    row = cur.fetchone()\n",
    "\n",
    "print(last_game_in_db[0])"
   ]
  },
  {
   "cell_type": "markdown",
   "metadata": {},
   "source": [
    "#### Filter for rows after last game in db"
   ]
  },
  {
   "cell_type": "code",
   "execution_count": 10,
   "metadata": {},
   "outputs": [
    {
     "data": {
      "text/html": [
       "<div>\n",
       "<style scoped>\n",
       "    .dataframe tbody tr th:only-of-type {\n",
       "        vertical-align: middle;\n",
       "    }\n",
       "\n",
       "    .dataframe tbody tr th {\n",
       "        vertical-align: top;\n",
       "    }\n",
       "\n",
       "    .dataframe thead th {\n",
       "        text-align: right;\n",
       "    }\n",
       "</style>\n",
       "<table border=\"1\" class=\"dataframe\">\n",
       "  <thead>\n",
       "    <tr style=\"text-align: right;\">\n",
       "      <th></th>\n",
       "      <th>Key</th>\n",
       "      <th>team_id</th>\n",
       "      <th>Season_Year</th>\n",
       "      <th>GP</th>\n",
       "      <th>Season</th>\n",
       "      <th>Date</th>\n",
       "      <th>Home</th>\n",
       "      <th>Opp_Name</th>\n",
       "      <th>GF</th>\n",
       "      <th>GA</th>\n",
       "      <th>Result</th>\n",
       "      <th>OT</th>\n",
       "      <th>Team_S</th>\n",
       "      <th>Team_PIM</th>\n",
       "      <th>Team_PPG</th>\n",
       "      <th>Team_PPO</th>\n",
       "      <th>Team_SHG</th>\n",
       "      <th>Opp_S</th>\n",
       "      <th>Opp_PIM</th>\n",
       "      <th>Opp_PPG</th>\n",
       "      <th>Opp_PPO</th>\n",
       "      <th>Opp_SHG</th>\n",
       "    </tr>\n",
       "  </thead>\n",
       "  <tbody>\n",
       "    <tr>\n",
       "      <th>81</th>\n",
       "      <td>18-2023-R82</td>\n",
       "      <td>18</td>\n",
       "      <td>2023</td>\n",
       "      <td>82</td>\n",
       "      <td>R</td>\n",
       "      <td>20230413</td>\n",
       "      <td>0</td>\n",
       "      <td>Washington Capitals</td>\n",
       "      <td>5</td>\n",
       "      <td>4</td>\n",
       "      <td>W</td>\n",
       "      <td>1</td>\n",
       "      <td>34</td>\n",
       "      <td>11</td>\n",
       "      <td>1</td>\n",
       "      <td>2</td>\n",
       "      <td>0</td>\n",
       "      <td>31</td>\n",
       "      <td>11</td>\n",
       "      <td>0</td>\n",
       "      <td>1</td>\n",
       "      <td>0</td>\n",
       "    </tr>\n",
       "  </tbody>\n",
       "</table>\n",
       "</div>"
      ],
      "text/plain": [
       "            Key  team_id Season_Year  GP Season      Date  Home  \\\n",
       "81  18-2023-R82       18        2023  82      R  20230413     0   \n",
       "\n",
       "               Opp_Name GF GA Result  OT Team_S Team_PIM Team_PPG Team_PPO  \\\n",
       "81  Washington Capitals  5  4      W   1     34       11        1        2   \n",
       "\n",
       "   Team_SHG Opp_S Opp_PIM Opp_PPG Opp_PPO Opp_SHG  \n",
       "81        0    31      11       0       1       0  "
      ]
     },
     "execution_count": 10,
     "metadata": {},
     "output_type": "execute_result"
    }
   ],
   "source": [
    "missing_games = df[df.Date > last_game_in_db[0]]\n",
    "missing_games"
   ]
  },
  {
   "cell_type": "code",
   "execution_count": 11,
   "metadata": {},
   "outputs": [],
   "source": [
    "gamelog_insert = (\"\"\"INSERT INTO fact_gamelog(\n",
    "                  key,\n",
    "                  team_id,\n",
    "                  season_year,\n",
    "                  gp,\n",
    "                  season,\n",
    "                  date,\n",
    "                  home,\n",
    "                  opp_name,\n",
    "                  gf,\n",
    "                  ga,\n",
    "                  result,\n",
    "                  ot,\n",
    "                  team_s,\n",
    "                  team_pim,\n",
    "                  team_ppg,\n",
    "                  team_ppo,\n",
    "                  team_shg,\n",
    "                  opp_s,\n",
    "                  opp_pim,\n",
    "                  opp_ppg,\n",
    "                  opp_ppo,\n",
    "                  opp_shg)\n",
    "               VALUES (%s, %s, %s, %s, %s, %s, %s, %s, %s, %s, %s, %s, %s, %s, %s, %s, %s, %s, %s, %s, %s, %s)\n",
    "               \"\"\")"
   ]
  },
  {
   "cell_type": "markdown",
   "metadata": {},
   "source": [
    "#### Insert into DB"
   ]
  },
  {
   "cell_type": "code",
   "execution_count": 12,
   "metadata": {},
   "outputs": [],
   "source": [
    "try:\n",
    "    for i, row in missing_games.iterrows():\n",
    "        #print(list(row))\n",
    "        cur.execute(gamelog_insert, list(row))\n",
    "\n",
    "except psycopg2.Error as e:\n",
    "    print(\"Error: could not insert rows\")\n",
    "    print(e)"
   ]
  }
 ],
 "metadata": {
  "kernelspec": {
   "display_name": "Python 3",
   "language": "python",
   "name": "python3"
  },
  "language_info": {
   "codemirror_mode": {
    "name": "ipython",
    "version": 3
   },
   "file_extension": ".py",
   "mimetype": "text/x-python",
   "name": "python",
   "nbconvert_exporter": "python",
   "pygments_lexer": "ipython3",
   "version": "3.10.4"
  },
  "orig_nbformat": 4
 },
 "nbformat": 4,
 "nbformat_minor": 2
}
