{
 "cells": [
  {
   "cell_type": "code",
   "execution_count": 1,
   "metadata": {},
   "outputs": [],
   "source": [
    "import psycopg2\n",
    "import pandas as pd"
   ]
  },
  {
   "cell_type": "markdown",
   "metadata": {},
   "source": [
    "### Create connection to database"
   ]
  },
  {
   "cell_type": "code",
   "execution_count": 24,
   "metadata": {},
   "outputs": [],
   "source": [
    "try:\n",
    "    conn = psycopg2.connect(\"host=127.0.0.1 dbname=hockey_test user=postgres password=password\")\n",
    "except psycopg2.Error as e:\n",
    "    print(\"Error: Could not connect to database\")\n",
    "    print(e)\n",
    "\n",
    "try:\n",
    "    cur = conn.cursor()\n",
    "except psycopg2.Error as e:\n",
    "    print(\"Error: Could not get cursor to the database\")\n",
    "    print(e)\n",
    "\n",
    "conn.set_session(autocommit=True)"
   ]
  },
  {
   "cell_type": "markdown",
   "metadata": {},
   "source": [
    "#### create table for dim_teams"
   ]
  },
  {
   "cell_type": "code",
   "execution_count": 25,
   "metadata": {},
   "outputs": [],
   "source": [
    "try:\n",
    "    cur.execute(\"CREATE TABLE IF NOT EXISTS dim_teams (\\\n",
    "                id int, \\\n",
    "                Division varchar,\\\n",
    "                Team varchar, \\\n",
    "                City varchar,\\\n",
    "                Arena varchar,\\\n",
    "                Capacity int,\\\n",
    "                Founded int,\\\n",
    "                Joined int,\\\n",
    "                General_manager varchar,\\\n",
    "                Head_coach varchar,\\\n",
    "                Captain varchar,\\\n",
    "                Conference varchar,\\\n",
    "                ABV varchar);\")\n",
    "    \n",
    "except psycopg2.Error as e:\n",
    "    print(\"Error: Could not create table\")\n",
    "    print(e)"
   ]
  },
  {
   "cell_type": "markdown",
   "metadata": {},
   "source": [
    "#### Insert values into table dim_dates"
   ]
  },
  {
   "cell_type": "code",
   "execution_count": 32,
   "metadata": {},
   "outputs": [
    {
     "data": {
      "text/html": [
       "<div>\n",
       "<style scoped>\n",
       "    .dataframe tbody tr th:only-of-type {\n",
       "        vertical-align: middle;\n",
       "    }\n",
       "\n",
       "    .dataframe tbody tr th {\n",
       "        vertical-align: top;\n",
       "    }\n",
       "\n",
       "    .dataframe thead th {\n",
       "        text-align: right;\n",
       "    }\n",
       "</style>\n",
       "<table border=\"1\" class=\"dataframe\">\n",
       "  <thead>\n",
       "    <tr style=\"text-align: right;\">\n",
       "      <th></th>\n",
       "      <th>ID</th>\n",
       "      <th>Division</th>\n",
       "      <th>Team</th>\n",
       "      <th>City</th>\n",
       "      <th>Arena</th>\n",
       "      <th>Capacity</th>\n",
       "      <th>Founded</th>\n",
       "      <th>Joined</th>\n",
       "      <th>General manager</th>\n",
       "      <th>Head coach</th>\n",
       "      <th>Captain</th>\n",
       "      <th>Conference</th>\n",
       "      <th>ABV</th>\n",
       "    </tr>\n",
       "  </thead>\n",
       "  <tbody>\n",
       "    <tr>\n",
       "      <th>0</th>\n",
       "      <td>3</td>\n",
       "      <td>Atlantic</td>\n",
       "      <td>Boston Bruins</td>\n",
       "      <td>Boston, Massachusetts</td>\n",
       "      <td>TD Garden</td>\n",
       "      <td>17850</td>\n",
       "      <td>1924</td>\n",
       "      <td>1924</td>\n",
       "      <td>Don Sweeney</td>\n",
       "      <td>Jim Montgomery</td>\n",
       "      <td>Brad Marchand</td>\n",
       "      <td>Eastern</td>\n",
       "      <td>BOS</td>\n",
       "    </tr>\n",
       "    <tr>\n",
       "      <th>1</th>\n",
       "      <td>4</td>\n",
       "      <td>Atlantic</td>\n",
       "      <td>Buffalo Sabres</td>\n",
       "      <td>Buffalo, New York</td>\n",
       "      <td>KeyBank Center</td>\n",
       "      <td>19070</td>\n",
       "      <td>1970</td>\n",
       "      <td>1970</td>\n",
       "      <td>Kevyn Adams</td>\n",
       "      <td>Don Granato</td>\n",
       "      <td>Kyle Okposo</td>\n",
       "      <td>Eastern</td>\n",
       "      <td>BUF</td>\n",
       "    </tr>\n",
       "  </tbody>\n",
       "</table>\n",
       "</div>"
      ],
      "text/plain": [
       "   ID  Division            Team                   City           Arena  \\\n",
       "0   3  Atlantic   Boston Bruins  Boston, Massachusetts       TD Garden   \n",
       "1   4  Atlantic  Buffalo Sabres      Buffalo, New York  KeyBank Center   \n",
       "\n",
       "   Capacity  Founded  Joined General manager      Head coach        Captain  \\\n",
       "0     17850     1924    1924     Don Sweeney  Jim Montgomery  Brad Marchand   \n",
       "1     19070     1970    1970     Kevyn Adams     Don Granato    Kyle Okposo   \n",
       "\n",
       "  Conference  ABV  \n",
       "0    Eastern  BOS  \n",
       "1    Eastern  BUF  "
      ]
     },
     "execution_count": 32,
     "metadata": {},
     "output_type": "execute_result"
    }
   ],
   "source": [
    "## load DF for dates\n",
    "df_teams = pd.read_csv(\"/Users/mattrende/Documents/Coding/hockey-reference/YouTube Project/csv/out/dim_teams.csv\")\n",
    "df_teams.head(2)"
   ]
  },
  {
   "cell_type": "code",
   "execution_count": 29,
   "metadata": {},
   "outputs": [],
   "source": [
    "teams_insert = (\"\"\"INSERT INTO dim_teams(\n",
    "               id,\n",
    "               Division,\n",
    "               Team,\n",
    "               City,\n",
    "               Arena,\n",
    "               Capacity,\n",
    "               Founded,\n",
    "               Joined,\n",
    "               General_manager,\n",
    "               Head_coach,\n",
    "               Captain,\n",
    "               Conference,\n",
    "               ABV)\n",
    "               VALUES (%s, %s, %s, %s, %s, %s, %s, %s, %s, %s, %s, %s, %s)\n",
    "               \"\"\")"
   ]
  },
  {
   "cell_type": "code",
   "execution_count": 30,
   "metadata": {},
   "outputs": [],
   "source": [
    "try:\n",
    "    for i, row in df_teams.iterrows():\n",
    "        #print(list(row))\n",
    "        cur.execute(teams_insert, list(row))\n",
    "\n",
    "except psycopg2.Error as e:\n",
    "    print(\"Error: could not insert rows\")\n",
    "    print(e)"
   ]
  },
  {
   "cell_type": "markdown",
   "metadata": {},
   "source": [
    "#### Validate rows were entered"
   ]
  },
  {
   "cell_type": "code",
   "execution_count": 19,
   "metadata": {},
   "outputs": [],
   "source": [
    "try: \n",
    "    cur.execute(\"SELECT * From dim_teams;\")\n",
    "\n",
    "except psycopg2.Error as e:\n",
    "    print(\"Select Error\")\n",
    "    print(e)\n",
    "\n",
    "row = cur.fetchone()\n",
    "while row:\n",
    "    #print(row)\n",
    "    row = cur.fetchone()"
   ]
  },
  {
   "cell_type": "markdown",
   "metadata": {},
   "source": [
    "### Close cursor and connection"
   ]
  },
  {
   "cell_type": "code",
   "execution_count": 21,
   "metadata": {},
   "outputs": [],
   "source": [
    "cur.close()\n",
    "conn.close()"
   ]
  }
 ],
 "metadata": {
  "kernelspec": {
   "display_name": "Python 3",
   "language": "python",
   "name": "python3"
  },
  "language_info": {
   "codemirror_mode": {
    "name": "ipython",
    "version": 3
   },
   "file_extension": ".py",
   "mimetype": "text/x-python",
   "name": "python",
   "nbconvert_exporter": "python",
   "pygments_lexer": "ipython3",
   "version": "3.10.4"
  },
  "orig_nbformat": 4
 },
 "nbformat": 4,
 "nbformat_minor": 2
}
