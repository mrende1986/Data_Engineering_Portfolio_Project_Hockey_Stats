{
 "cells": [
  {
   "cell_type": "code",
   "execution_count": 25,
   "metadata": {},
   "outputs": [],
   "source": [
    "import psycopg2\n",
    "import pandas as pd\n",
    "pd.options.display.max_columns = 40"
   ]
  },
  {
   "cell_type": "markdown",
   "metadata": {},
   "source": [
    "### Connect to the database"
   ]
  },
  {
   "cell_type": "code",
   "execution_count": 26,
   "metadata": {},
   "outputs": [],
   "source": [
    "try:\n",
    "    conn = psycopg2.connect(\"host=127.0.0.1 dbname=hockey_yt_project user=postgres password=password\")\n",
    "except psycopg2.Error as e:\n",
    "    print(\"Error: Could not connect to database\")\n",
    "    print(e)\n",
    "\n",
    "try:\n",
    "    cur = conn.cursor()\n",
    "except psycopg2.Error as e:\n",
    "    print(\"Error: Could not get cursor to the database\")\n",
    "    print(e)\n",
    "\n",
    "conn.set_session(autocommit=True)"
   ]
  },
  {
   "cell_type": "markdown",
   "metadata": {},
   "source": [
    "#### create table for fact_scoring_log"
   ]
  },
  {
   "cell_type": "code",
   "execution_count": 27,
   "metadata": {},
   "outputs": [],
   "source": [
    "try:\n",
    "    cur.execute(\"CREATE TABLE IF NOT EXISTS fact_player_scoring_log (\\\n",
    "                id serial primary key, \\\n",
    "                tracked_player_name varchar,\\\n",
    "                point_number int,\\\n",
    "                team_year_gp_key varchar,\\\n",
    "                p varchar, \\\n",
    "                time varchar,\\\n",
    "                goal_strength varchar,\\\n",
    "                description varchar,\\\n",
    "                goal_scorer varchar,\\\n",
    "                primary_assist varchar,\\\n",
    "                secondary_assist varchar);\")\n",
    "    \n",
    "except psycopg2.Error as e:\n",
    "    print(\"Error: Could not create table\")\n",
    "    print(e)"
   ]
  },
  {
   "cell_type": "code",
   "execution_count": 28,
   "metadata": {},
   "outputs": [],
   "source": [
    "gamelog_insert = (\"\"\"INSERT INTO fact_player_scoring_log(\n",
    "                  tracked_player_name,\n",
    "                  point_number,\n",
    "                  team_year_gp_key,\n",
    "                  p,\n",
    "                  time,\n",
    "                  goal_strength,\n",
    "                  description,\n",
    "                  goal_scorer,\n",
    "                  primary_assist,\n",
    "                  secondary_assist)\n",
    "               VALUES (%s, %s, %s, %s, %s, %s, %s, %s, %s, %s)\n",
    "               \"\"\")"
   ]
  },
  {
   "cell_type": "code",
   "execution_count": 35,
   "metadata": {},
   "outputs": [
    {
     "data": {
      "text/html": [
       "<div>\n",
       "<style scoped>\n",
       "    .dataframe tbody tr th:only-of-type {\n",
       "        vertical-align: middle;\n",
       "    }\n",
       "\n",
       "    .dataframe tbody tr th {\n",
       "        vertical-align: top;\n",
       "    }\n",
       "\n",
       "    .dataframe thead th {\n",
       "        text-align: right;\n",
       "    }\n",
       "</style>\n",
       "<table border=\"1\" class=\"dataframe\">\n",
       "  <thead>\n",
       "    <tr style=\"text-align: right;\">\n",
       "      <th></th>\n",
       "      <th>tracked_player_name</th>\n",
       "      <th>Point_Number</th>\n",
       "      <th>Team_Game_Key</th>\n",
       "      <th>P</th>\n",
       "      <th>Time</th>\n",
       "      <th>Goal_Strength</th>\n",
       "      <th>Description</th>\n",
       "      <th>goal_scorer</th>\n",
       "      <th>primary_assist</th>\n",
       "      <th>secondary_assist</th>\n",
       "    </tr>\n",
       "  </thead>\n",
       "  <tbody>\n",
       "    <tr>\n",
       "      <th>0</th>\n",
       "      <td>Hughes, Jack</td>\n",
       "      <td>1</td>\n",
       "      <td>18-2023-R3</td>\n",
       "      <td>2</td>\n",
       "      <td>04:17</td>\n",
       "      <td>EV</td>\n",
       "      <td>Goal by Ondřej Palát assisted by Ryan Graves a...</td>\n",
       "      <td>Palát, Ondřej</td>\n",
       "      <td>Graves, Ryan</td>\n",
       "      <td>Hughes, Jack</td>\n",
       "    </tr>\n",
       "    <tr>\n",
       "      <th>1</th>\n",
       "      <td>Hughes, Jack</td>\n",
       "      <td>2</td>\n",
       "      <td>18-2023-R3</td>\n",
       "      <td>3</td>\n",
       "      <td>12:49</td>\n",
       "      <td>EV</td>\n",
       "      <td>Goal by Dawson Mercer assisted by Yegor Sharan...</td>\n",
       "      <td>Mercer, Dawson</td>\n",
       "      <td>Sharangovich, Yegor</td>\n",
       "      <td>Hughes, Jack</td>\n",
       "    </tr>\n",
       "  </tbody>\n",
       "</table>\n",
       "</div>"
      ],
      "text/plain": [
       "  tracked_player_name  Point_Number Team_Game_Key  P   Time Goal_Strength  \\\n",
       "0        Hughes, Jack             1    18-2023-R3  2  04:17            EV   \n",
       "1        Hughes, Jack             2    18-2023-R3  3  12:49            EV   \n",
       "\n",
       "                                         Description     goal_scorer  \\\n",
       "0  Goal by Ondřej Palát assisted by Ryan Graves a...   Palát, Ondřej   \n",
       "1  Goal by Dawson Mercer assisted by Yegor Sharan...  Mercer, Dawson   \n",
       "\n",
       "        primary_assist secondary_assist  \n",
       "0         Graves, Ryan     Hughes, Jack  \n",
       "1  Sharangovich, Yegor     Hughes, Jack  "
      ]
     },
     "execution_count": 35,
     "metadata": {},
     "output_type": "execute_result"
    }
   ],
   "source": [
    "## load DF for dates\n",
    "df_gamelog = pd.read_csv(\"/Users/mattrende/Documents/Coding/hockey-reference/YouTube Project/csv/out/fact_jack_2023_scoringlog.csv\")\n",
    "df_gamelog.head(2)"
   ]
  },
  {
   "cell_type": "code",
   "execution_count": 36,
   "metadata": {},
   "outputs": [],
   "source": [
    "try:\n",
    "    for i, row in df_gamelog.iterrows():\n",
    "        #print(list(row))\n",
    "        cur.execute(gamelog_insert, list(row))\n",
    "\n",
    "except psycopg2.Error as e:\n",
    "    print(\"Error: could not insert rows\")\n",
    "    print(e)"
   ]
  },
  {
   "cell_type": "code",
   "execution_count": null,
   "metadata": {},
   "outputs": [],
   "source": []
  }
 ],
 "metadata": {
  "kernelspec": {
   "display_name": "Python 3",
   "language": "python",
   "name": "python3"
  },
  "language_info": {
   "codemirror_mode": {
    "name": "ipython",
    "version": 3
   },
   "file_extension": ".py",
   "mimetype": "text/x-python",
   "name": "python",
   "nbconvert_exporter": "python",
   "pygments_lexer": "ipython3",
   "version": "3.10.4"
  },
  "orig_nbformat": 4
 },
 "nbformat": 4,
 "nbformat_minor": 2
}
