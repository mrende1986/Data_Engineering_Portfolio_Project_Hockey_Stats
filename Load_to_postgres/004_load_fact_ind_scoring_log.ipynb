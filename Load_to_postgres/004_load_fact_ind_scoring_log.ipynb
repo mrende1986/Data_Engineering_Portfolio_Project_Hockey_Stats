{
 "cells": [
  {
   "cell_type": "code",
   "execution_count": null,
   "metadata": {},
   "outputs": [],
   "source": [
    "import psycopg2\n",
    "import pandas as pd\n",
    "pd.options.display.max_columns = 40"
   ]
  },
  {
   "cell_type": "markdown",
   "metadata": {},
   "source": [
    "### Connect to the database"
   ]
  },
  {
   "cell_type": "code",
   "execution_count": null,
   "metadata": {},
   "outputs": [],
   "source": [
    "try:\n",
    "    conn = psycopg2.connect(\"host=127.0.0.1 dbname=hockey_YT_Project user=postgres password=password\")\n",
    "except psycopg2.Error as e:\n",
    "    print(\"Error: Could not connect to database\")\n",
    "    print(e)\n",
    "\n",
    "try:\n",
    "    cur = conn.cursor()\n",
    "except psycopg2.Error as e:\n",
    "    print(\"Error: Could not get cursor to the database\")\n",
    "    print(e)\n",
    "\n",
    "conn.set_session(autocommit=True)"
   ]
  },
  {
   "cell_type": "markdown",
   "metadata": {},
   "source": [
    "#### create table for fact_scoring_log"
   ]
  },
  {
   "cell_type": "code",
   "execution_count": null,
   "metadata": {},
   "outputs": [],
   "source": [
    "try:\n",
    "    cur.execute(\"CREATE TABLE IF NOT EXISTS fact_player_scoring_log (\\\n",
    "                id serial primary key, \\\n",
    "                tracked_player_name varchar,\\\n",
    "                point_number int,\\\n",
    "                team_year_gp_key varchar,\\\n",
    "                p varchar, \\\n",
    "                time varchar,\\\n",
    "                goal_strength varchar,\\\n",
    "                description varchar,\\\n",
    "                goal_scorer varchar,\\\n",
    "                primary_assist varchar,\\\n",
    "                secondary_assist varchar);\")\n",
    "    \n",
    "except psycopg2.Error as e:\n",
    "    print(\"Error: Could not create table\")\n",
    "    print(e)"
   ]
  },
  {
   "cell_type": "code",
   "execution_count": null,
   "metadata": {},
   "outputs": [],
   "source": [
    "gamelog_insert = (\"\"\"INSERT INTO fact_player_scoring_log(\n",
    "                  tracked_player_name,\n",
    "                  point_number,\n",
    "                  team_year_gp_key,\n",
    "                  p,\n",
    "                  time,\n",
    "                  goal_strength,\n",
    "                  description,\n",
    "                  goal_scorer,\n",
    "                  primary_assist,\n",
    "                  secondary_assist)\n",
    "               VALUES (%s, %s, %s, %s, %s, %s, %s, %s, %s, %s)\n",
    "               \"\"\")"
   ]
  },
  {
   "cell_type": "code",
   "execution_count": null,
   "metadata": {},
   "outputs": [],
   "source": [
    "## load DF for dates\n",
    "df_gamelog = pd.read_csv(\"/Users/mattrende/Documents/Coding/hockey-reference/YouTube Project/csv/out/fact_jack_2023_scoringlog.csv\")\n",
    "df_gamelog.head(2)"
   ]
  },
  {
   "cell_type": "code",
   "execution_count": null,
   "metadata": {},
   "outputs": [],
   "source": [
    "try:\n",
    "    for i, row in df_gamelog.iterrows():\n",
    "        #print(list(row))\n",
    "        cur.execute(gamelog_insert, list(row))\n",
    "\n",
    "except psycopg2.Error as e:\n",
    "    print(\"Error: could not insert rows\")\n",
    "    print(e)"
   ]
  }
 ],
 "metadata": {
  "kernelspec": {
   "display_name": "Python 3",
   "language": "python",
   "name": "python3"
  },
  "language_info": {
   "codemirror_mode": {
    "name": "ipython",
    "version": 3
   },
   "file_extension": ".py",
   "mimetype": "text/x-python",
   "name": "python",
   "nbconvert_exporter": "python",
   "pygments_lexer": "ipython3",
   "version": "3.10.4"
  },
  "orig_nbformat": 4
 },
 "nbformat": 4,
 "nbformat_minor": 2
}
