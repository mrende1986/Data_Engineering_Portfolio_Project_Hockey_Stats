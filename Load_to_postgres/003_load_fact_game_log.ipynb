{
 "cells": [
  {
   "cell_type": "code",
   "execution_count": null,
   "metadata": {},
   "outputs": [],
   "source": [
    "import psycopg2\n",
    "import pandas as pd\n",
    "pd.options.display.max_columns = 40"
   ]
  },
  {
   "cell_type": "markdown",
   "metadata": {},
   "source": [
    "### Connect to the database"
   ]
  },
  {
   "cell_type": "code",
   "execution_count": null,
   "metadata": {},
   "outputs": [],
   "source": [
    "try:\n",
    "    conn = psycopg2.connect(\"host=127.0.0.1 dbname=hockey_YT_Project user=postgres password=password\")\n",
    "except psycopg2.Error as e:\n",
    "    print(\"Error: Could not connect to database\")\n",
    "    print(e)\n",
    "\n",
    "try:\n",
    "    cur = conn.cursor()\n",
    "except psycopg2.Error as e:\n",
    "    print(\"Error: Could not get cursor to the database\")\n",
    "    print(e)\n",
    "\n",
    "conn.set_session(autocommit=True)"
   ]
  },
  {
   "cell_type": "markdown",
   "metadata": {},
   "source": [
    "#### create table for fact_gamelog"
   ]
  },
  {
   "cell_type": "code",
   "execution_count": null,
   "metadata": {},
   "outputs": [],
   "source": [
    "try:\n",
    "    cur.execute(\"CREATE TABLE IF NOT EXISTS fact_gamelog (\\\n",
    "                id serial, \\\n",
    "                key varchar primary key,\\\n",
    "                team_id int,\\\n",
    "                season_year int,\\\n",
    "                gp int, \\\n",
    "                season varchar,\\\n",
    "                date int,\\\n",
    "                home int,\\\n",
    "                opp_name varchar,\\\n",
    "                gf int,\\\n",
    "                ga int,\\\n",
    "                result varchar,\\\n",
    "                ot int,\\\n",
    "                team_s int,\\\n",
    "                team_pim int,\\\n",
    "                team_ppg int,\\\n",
    "                team_ppo int,\\\n",
    "                team_shg int,\\\n",
    "                opp_s int,\\\n",
    "                opp_pim int,\\\n",
    "                opp_ppg int,\\\n",
    "                opp_ppo int,\\\n",
    "                opp_shg int);\")\n",
    "    \n",
    "except psycopg2.Error as e:\n",
    "    print(\"Error: Could not create table\")\n",
    "    print(e)"
   ]
  },
  {
   "cell_type": "code",
   "execution_count": null,
   "metadata": {},
   "outputs": [],
   "source": [
    "gamelog_insert = (\"\"\"INSERT INTO fact_gamelog(\n",
    "                  key,\n",
    "                  team_id,\n",
    "                  season_year,\n",
    "                  gp,\n",
    "                  season,\n",
    "                  date,\n",
    "                  home,\n",
    "                  opp_name,\n",
    "                  gf,\n",
    "                  ga,\n",
    "                  result,\n",
    "                  ot,\n",
    "                  team_s,\n",
    "                  team_pim,\n",
    "                  team_ppg,\n",
    "                  team_ppo,\n",
    "                  team_shg,\n",
    "                  opp_s,\n",
    "                  opp_pim,\n",
    "                  opp_ppg,\n",
    "                  opp_ppo,\n",
    "                  opp_shg)\n",
    "               VALUES (%s, %s, %s, %s, %s, %s, %s, %s, %s, %s, %s, %s, %s, %s, %s, %s, %s, %s, %s, %s, %s, %s)\n",
    "               \"\"\")"
   ]
  },
  {
   "cell_type": "code",
   "execution_count": null,
   "metadata": {},
   "outputs": [],
   "source": [
    "## load DF for dates\n",
    "df_gamelog = pd.read_csv(\"/Users/mattrende/Documents/Coding/hockey-reference/YouTube Project/csv/out/fact_gamelog.csv\")\n",
    "df_gamelog.head(2)"
   ]
  },
  {
   "cell_type": "code",
   "execution_count": null,
   "metadata": {},
   "outputs": [],
   "source": [
    "try:\n",
    "    for i, row in df_gamelog.iterrows():\n",
    "        #print(list(row))\n",
    "        cur.execute(gamelog_insert, list(row))\n",
    "\n",
    "except psycopg2.Error as e:\n",
    "    print(\"Error: could not insert rows\")\n",
    "    print(e)"
   ]
  }
 ],
 "metadata": {
  "kernelspec": {
   "display_name": "Python 3",
   "language": "python",
   "name": "python3"
  },
  "language_info": {
   "codemirror_mode": {
    "name": "ipython",
    "version": 3
   },
   "file_extension": ".py",
   "mimetype": "text/x-python",
   "name": "python",
   "nbconvert_exporter": "python",
   "pygments_lexer": "ipython3",
   "version": "3.10.4"
  },
  "orig_nbformat": 4
 },
 "nbformat": 4,
 "nbformat_minor": 2
}
