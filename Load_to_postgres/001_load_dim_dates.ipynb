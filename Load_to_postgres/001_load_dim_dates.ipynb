{
 "cells": [
  {
   "cell_type": "code",
   "execution_count": null,
   "metadata": {},
   "outputs": [],
   "source": [
    "import psycopg2\n",
    "import pandas as pd"
   ]
  },
  {
   "cell_type": "markdown",
   "metadata": {},
   "source": [
    "### Create connection to database"
   ]
  },
  {
   "cell_type": "code",
   "execution_count": null,
   "metadata": {},
   "outputs": [],
   "source": [
    "try:\n",
    "    conn = psycopg2.connect(\"host=127.0.0.1 dbname=hockey_YT_Project user=postgres password=password\")\n",
    "except psycopg2.Error as e:\n",
    "    print(\"Error: Could not connect to database\")\n",
    "    print(e)\n",
    "\n",
    "try:\n",
    "    cur = conn.cursor()\n",
    "except psycopg2.Error as e:\n",
    "    print(\"Error: Could not get cursor to the database\")\n",
    "    print(e)\n",
    "\n",
    "conn.set_session(autocommit=True)"
   ]
  },
  {
   "cell_type": "markdown",
   "metadata": {},
   "source": [
    "#### create table for dim_dates"
   ]
  },
  {
   "cell_type": "code",
   "execution_count": null,
   "metadata": {},
   "outputs": [],
   "source": [
    "try:\n",
    "    cur.execute(\"CREATE TABLE IF NOT EXISTS dim_dates (\\\n",
    "                id int,\\\n",
    "                date date,\\\n",
    "                day varchar,\\\n",
    "                week int,\\\n",
    "                is_weekend int,\\\n",
    "                is_holiday int);\")\n",
    "    \n",
    "except psycopg2.Error as e:\n",
    "    print(\"Error: Could not create table\")\n",
    "    print(e)"
   ]
  },
  {
   "cell_type": "markdown",
   "metadata": {},
   "source": [
    "#### Insert values into table dim_dates"
   ]
  },
  {
   "cell_type": "code",
   "execution_count": null,
   "metadata": {},
   "outputs": [],
   "source": [
    "## load DF for dates\n",
    "df_dates = pd.read_csv(\"/Users/mattrende/Documents/Coding/hockey-reference/YouTube Project/csv/out/dim_dates.csv\", parse_dates=[\"Date\"])\n",
    "df_dates.head(2)"
   ]
  },
  {
   "cell_type": "code",
   "execution_count": null,
   "metadata": {},
   "outputs": [],
   "source": [
    "date_insert = (\"\"\"INSERT INTO dim_dates(\n",
    "               id,\n",
    "               date,\n",
    "               day,\n",
    "               week,\n",
    "               is_weekend,\n",
    "               is_holiday)\n",
    "               VALUES (%s, %s, %s, %s, %s, %s)\n",
    "               \"\"\")"
   ]
  },
  {
   "cell_type": "code",
   "execution_count": null,
   "metadata": {},
   "outputs": [],
   "source": [
    "try:\n",
    "    for i, row in df_dates.iterrows():\n",
    "        #print(list(row))\n",
    "        cur.execute(date_insert, list(row))\n",
    "\n",
    "except psycopg2.Error as e:\n",
    "    print(\"Error: could not insert rows\")\n",
    "    print(e)"
   ]
  },
  {
   "cell_type": "code",
   "execution_count": null,
   "metadata": {},
   "outputs": [],
   "source": [
    "try: \n",
    "    cur.execute(\"SELECT * From dim_dates;\")\n",
    "\n",
    "except psycopg2.Error as e:\n",
    "    print(\"Select Error\")\n",
    "    print(e)\n",
    "\n",
    "row = cur.fetchone()\n",
    "while row:\n",
    "    print(row)\n",
    "    row = cur.fetchone()"
   ]
  },
  {
   "cell_type": "markdown",
   "metadata": {},
   "source": [
    "### Close cursor and connection"
   ]
  },
  {
   "cell_type": "code",
   "execution_count": null,
   "metadata": {},
   "outputs": [],
   "source": [
    "cur.close()\n",
    "conn.close()"
   ]
  }
 ],
 "metadata": {
  "kernelspec": {
   "display_name": "Python 3",
   "language": "python",
   "name": "python3"
  },
  "language_info": {
   "codemirror_mode": {
    "name": "ipython",
    "version": 3
   },
   "file_extension": ".py",
   "mimetype": "text/x-python",
   "name": "python",
   "nbconvert_exporter": "python",
   "pygments_lexer": "ipython3",
   "version": "3.10.4"
  },
  "orig_nbformat": 4
 },
 "nbformat": 4,
 "nbformat_minor": 2
}
